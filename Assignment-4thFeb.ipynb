{
 "cells": [
  {
   "cell_type": "markdown",
   "id": "21c6fbc4-ff10-44e2-bb84-5f1b5f35cb82",
   "metadata": {},
   "source": [
    "Q1-Create a python program to sort the given list of tuples based on integer value using a\n",
    "lambda function."
   ]
  },
  {
   "cell_type": "markdown",
   "id": "d7d992f7-603f-4153-bfba-5b681e12c20f",
   "metadata": {},
   "source": [
    "Ans(1)-"
   ]
  },
  {
   "cell_type": "code",
   "execution_count": 6,
   "id": "1e101d0f-ae0f-4e70-853f-76062f3bb968",
   "metadata": {},
   "outputs": [
    {
     "name": "stdout",
     "output_type": "stream",
     "text": [
      "[('Virat Kohli', 24936), ('Jack Kallis', 25534), ('Ricky Ponting', 27483), ('Sachin Tendulkar', 34357)]\n"
     ]
    }
   ],
   "source": [
    "player_scores = [('Sachin Tendulkar', 34357), ('Ricky Ponting', 27483), ('Jack Kallis', 25534), ('Virat Kohli', 24936)]\n",
    "\n",
    "sorted_scores = sorted(player_scores, key=lambda x: x[1])\n",
    "\n",
    "print(sorted_scores)\n"
   ]
  },
  {
   "cell_type": "markdown",
   "id": "64ebf4cd-9e20-4be6-bdfd-c1caf40f5303",
   "metadata": {},
   "source": [
    "Q2-Write a Python Program to find the squares of all the numbers in the given list of integers using\n",
    "lambda and map functions.\n",
    "[1, 2, 3, 4, 5, 6, 7, 8, 9, 10]"
   ]
  },
  {
   "cell_type": "markdown",
   "id": "641e9763-64e9-44a4-9ec5-ecb674b5cade",
   "metadata": {},
   "source": [
    "Ans(2)-"
   ]
  },
  {
   "cell_type": "code",
   "execution_count": 9,
   "id": "b235b105-0f0c-4e68-855a-52eaaf793b26",
   "metadata": {},
   "outputs": [
    {
     "name": "stdout",
     "output_type": "stream",
     "text": [
      "[1, 4, 9, 16, 25, 36, 49, 64, 81, 100]\n"
     ]
    }
   ],
   "source": [
    "numbers = [1, 2, 3, 4, 5, 6, 7, 8, 9, 10]\n",
    "\n",
    "square = lambda x: x**2\n",
    "\n",
    "squared_numbers = list(map(square, numbers))\n",
    "\n",
    "print(squared_numbers)\n"
   ]
  },
  {
   "cell_type": "markdown",
   "id": "02c8ac97-c9b8-480a-b98e-aeaf5561695d",
   "metadata": {},
   "source": [
    "Q3-Write a python program to convert the given list of integers into a tuple of strings. Use map and\n",
    "lambda functions\n",
    "Given String: [1, 2, 3, 4, 5, 6, 7, 8, 9, 10]\n",
    "Expected output: ('1', '2', '3', '4', '5', '6', '7', '8', '9', '10')"
   ]
  },
  {
   "cell_type": "markdown",
   "id": "7d08deaa-9703-44ec-8814-424380734bb8",
   "metadata": {},
   "source": [
    "Ans(3)-"
   ]
  },
  {
   "cell_type": "code",
   "execution_count": 11,
   "id": "993c9da2-9d14-490e-8f1b-d37a93223cf0",
   "metadata": {},
   "outputs": [
    {
     "name": "stdout",
     "output_type": "stream",
     "text": [
      "('1', '2', '3', '4', '5', '6', '7', '8', '9', '10')\n"
     ]
    }
   ],
   "source": [
    "number=[1,2,3,4,5,6,7,8,9,10]\n",
    "convert=lambda x:str(x)\n",
    "\n",
    "converted=tuple(map(convert,number))\n",
    "print(converted)\n"
   ]
  },
  {
   "cell_type": "markdown",
   "id": "42d3c8d0-1185-49ea-bab6-5b07a52bf357",
   "metadata": {},
   "source": [
    "Q4-Write a python program using reduce function to compute the product of a list containing numbers\n",
    "from 1 to 25."
   ]
  },
  {
   "cell_type": "markdown",
   "id": "9b968c37-ce29-48ef-9ce5-eb085c0003b0",
   "metadata": {},
   "source": [
    "Ans(4)-"
   ]
  },
  {
   "cell_type": "code",
   "execution_count": 15,
   "id": "cec74d9e-dfbf-45fa-a91d-5542ef3173e4",
   "metadata": {},
   "outputs": [
    {
     "name": "stdout",
     "output_type": "stream",
     "text": [
      "15511210043330985984000000\n"
     ]
    }
   ],
   "source": [
    "from functools import reduce\n",
    "numbers = [i for i in range(1, 26)]\n",
    "\n",
    "product = reduce(lambda x, y: x * y, numbers)\n",
    "print(product)"
   ]
  },
  {
   "cell_type": "markdown",
   "id": "839fe5a9-09b7-469e-8f87-d6dd7e1d897f",
   "metadata": {},
   "source": [
    "Q5-Write a python program to filter the numbers in a given list that are divisible by 2 and 3 using the\n",
    "filter function.\n",
    "[2, 3, 6, 9, 27, 60, 90, 120, 55, 46]\n"
   ]
  },
  {
   "cell_type": "markdown",
   "id": "b8d9c85f-6956-4def-b2e0-e5d94d74674a",
   "metadata": {},
   "source": [
    "Ans(5)-"
   ]
  },
  {
   "cell_type": "code",
   "execution_count": 1,
   "id": "072c40ef-8a1d-437a-85f9-cd90537ed0f7",
   "metadata": {},
   "outputs": [
    {
     "name": "stdout",
     "output_type": "stream",
     "text": [
      "[6, 60, 90, 120]\n"
     ]
    }
   ],
   "source": [
    "l=[2,3,6,9,27,60,90,120,55,46]\n",
    "division=filter(lambda x: x%2==0 and x%3==0,l)\n",
    "print(list(division))"
   ]
  },
  {
   "cell_type": "markdown",
   "id": "8123cfac-41f5-47a2-bede-c96a24662f09",
   "metadata": {},
   "source": [
    "Q6-Write a python program to find palindromes in the given list of strings using lambda and filter\n",
    "function.\n",
    "['python', 'php', 'aba', 'radar', 'level']"
   ]
  },
  {
   "cell_type": "markdown",
   "id": "fdd0b624-39fe-47f8-87dd-4cf8f7db06ef",
   "metadata": {},
   "source": [
    "Ans(6)-"
   ]
  },
  {
   "cell_type": "code",
   "execution_count": 4,
   "id": "5e70f42f-0515-45f0-9c2e-9cf6bb2529e5",
   "metadata": {},
   "outputs": [
    {
     "name": "stdout",
     "output_type": "stream",
     "text": [
      "['php', 'aba', 'radar', 'level']\n"
     ]
    }
   ],
   "source": [
    "string=['python','php','aba','radar','level']\n",
    "palindromes=list(filter(lambda x: x== x[::-1],string))\n",
    "print(palindromes)\n"
   ]
  },
  {
   "cell_type": "code",
   "execution_count": null,
   "id": "5bfe46ae-e262-4c5e-a39a-4edc3aacfeb9",
   "metadata": {},
   "outputs": [],
   "source": []
  }
 ],
 "metadata": {
  "kernelspec": {
   "display_name": "Python 3 (ipykernel)",
   "language": "python",
   "name": "python3"
  },
  "language_info": {
   "codemirror_mode": {
    "name": "ipython",
    "version": 3
   },
   "file_extension": ".py",
   "mimetype": "text/x-python",
   "name": "python",
   "nbconvert_exporter": "python",
   "pygments_lexer": "ipython3",
   "version": "3.10.8"
  }
 },
 "nbformat": 4,
 "nbformat_minor": 5
}
